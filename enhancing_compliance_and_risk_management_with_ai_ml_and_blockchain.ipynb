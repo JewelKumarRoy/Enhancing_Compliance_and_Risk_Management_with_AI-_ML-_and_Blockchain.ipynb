{
  "nbformat": 4,
  "nbformat_minor": 0,
  "metadata": {
    "colab": {
      "provenance": []
    },
    "kernelspec": {
      "name": "python3",
      "display_name": "Python 3"
    },
    "language_info": {
      "name": "python"
    }
  },
  "cells": [
    {
      "cell_type": "markdown",
      "source": [
        "1. Install Required Libraries in Google Colab\n",
        "First, need to install the necessary libraries. This can be done directly within Google Colab using !pip install."
      ],
      "metadata": {
        "id": "RCdaeoLW3e1q"
      }
    },
    {
      "cell_type": "code",
      "execution_count": null,
      "metadata": {
        "colab": {
          "base_uri": "https://localhost:8080/"
        },
        "id": "tXLeZwQRmOV0",
        "outputId": "88f3481d-83c9-48e2-e781-ccd59a30e7f0"
      },
      "outputs": [
        {
          "output_type": "stream",
          "name": "stdout",
          "text": [
            "Requirement already satisfied: flask in /usr/local/lib/python3.10/dist-packages (3.1.0)\n",
            "Requirement already satisfied: tensorflow in /usr/local/lib/python3.10/dist-packages (2.17.1)\n",
            "Requirement already satisfied: scikit-learn in /usr/local/lib/python3.10/dist-packages (1.6.0)\n",
            "Collecting py-solc-x\n",
            "  Downloading py_solc_x-2.0.3-py3-none-any.whl.metadata (5.8 kB)\n",
            "Requirement already satisfied: requests in /usr/local/lib/python3.10/dist-packages (2.32.3)\n",
            "Requirement already satisfied: Werkzeug>=3.1 in /usr/local/lib/python3.10/dist-packages (from flask) (3.1.3)\n",
            "Requirement already satisfied: Jinja2>=3.1.2 in /usr/local/lib/python3.10/dist-packages (from flask) (3.1.4)\n",
            "Requirement already satisfied: itsdangerous>=2.2 in /usr/local/lib/python3.10/dist-packages (from flask) (2.2.0)\n",
            "Requirement already satisfied: click>=8.1.3 in /usr/local/lib/python3.10/dist-packages (from flask) (8.1.7)\n",
            "Requirement already satisfied: blinker>=1.9 in /usr/local/lib/python3.10/dist-packages (from flask) (1.9.0)\n",
            "Requirement already satisfied: absl-py>=1.0.0 in /usr/local/lib/python3.10/dist-packages (from tensorflow) (1.4.0)\n",
            "Requirement already satisfied: astunparse>=1.6.0 in /usr/local/lib/python3.10/dist-packages (from tensorflow) (1.6.3)\n",
            "Requirement already satisfied: flatbuffers>=24.3.25 in /usr/local/lib/python3.10/dist-packages (from tensorflow) (24.3.25)\n",
            "Requirement already satisfied: gast!=0.5.0,!=0.5.1,!=0.5.2,>=0.2.1 in /usr/local/lib/python3.10/dist-packages (from tensorflow) (0.6.0)\n",
            "Requirement already satisfied: google-pasta>=0.1.1 in /usr/local/lib/python3.10/dist-packages (from tensorflow) (0.2.0)\n",
            "Requirement already satisfied: h5py>=3.10.0 in /usr/local/lib/python3.10/dist-packages (from tensorflow) (3.12.1)\n",
            "Requirement already satisfied: libclang>=13.0.0 in /usr/local/lib/python3.10/dist-packages (from tensorflow) (18.1.1)\n",
            "Requirement already satisfied: ml-dtypes<0.5.0,>=0.3.1 in /usr/local/lib/python3.10/dist-packages (from tensorflow) (0.4.1)\n",
            "Requirement already satisfied: opt-einsum>=2.3.2 in /usr/local/lib/python3.10/dist-packages (from tensorflow) (3.4.0)\n",
            "Requirement already satisfied: packaging in /usr/local/lib/python3.10/dist-packages (from tensorflow) (24.2)\n",
            "Requirement already satisfied: protobuf!=4.21.0,!=4.21.1,!=4.21.2,!=4.21.3,!=4.21.4,!=4.21.5,<5.0.0dev,>=3.20.3 in /usr/local/lib/python3.10/dist-packages (from tensorflow) (4.25.5)\n",
            "Requirement already satisfied: setuptools in /usr/local/lib/python3.10/dist-packages (from tensorflow) (75.1.0)\n",
            "Requirement already satisfied: six>=1.12.0 in /usr/local/lib/python3.10/dist-packages (from tensorflow) (1.17.0)\n",
            "Requirement already satisfied: termcolor>=1.1.0 in /usr/local/lib/python3.10/dist-packages (from tensorflow) (2.5.0)\n",
            "Requirement already satisfied: typing-extensions>=3.6.6 in /usr/local/lib/python3.10/dist-packages (from tensorflow) (4.12.2)\n",
            "Requirement already satisfied: wrapt>=1.11.0 in /usr/local/lib/python3.10/dist-packages (from tensorflow) (1.17.0)\n",
            "Requirement already satisfied: grpcio<2.0,>=1.24.3 in /usr/local/lib/python3.10/dist-packages (from tensorflow) (1.68.1)\n",
            "Requirement already satisfied: tensorboard<2.18,>=2.17 in /usr/local/lib/python3.10/dist-packages (from tensorflow) (2.17.1)\n",
            "Requirement already satisfied: keras>=3.2.0 in /usr/local/lib/python3.10/dist-packages (from tensorflow) (3.5.0)\n",
            "Requirement already satisfied: tensorflow-io-gcs-filesystem>=0.23.1 in /usr/local/lib/python3.10/dist-packages (from tensorflow) (0.37.1)\n",
            "Requirement already satisfied: numpy<2.0.0,>=1.23.5 in /usr/local/lib/python3.10/dist-packages (from tensorflow) (1.26.4)\n",
            "Requirement already satisfied: scipy>=1.6.0 in /usr/local/lib/python3.10/dist-packages (from scikit-learn) (1.13.1)\n",
            "Requirement already satisfied: joblib>=1.2.0 in /usr/local/lib/python3.10/dist-packages (from scikit-learn) (1.4.2)\n",
            "Requirement already satisfied: threadpoolctl>=3.1.0 in /usr/local/lib/python3.10/dist-packages (from scikit-learn) (3.5.0)\n",
            "Collecting packaging (from tensorflow)\n",
            "  Downloading packaging-23.2-py3-none-any.whl.metadata (3.2 kB)\n",
            "Requirement already satisfied: charset-normalizer<4,>=2 in /usr/local/lib/python3.10/dist-packages (from requests) (3.4.0)\n",
            "Requirement already satisfied: idna<4,>=2.5 in /usr/local/lib/python3.10/dist-packages (from requests) (3.10)\n",
            "Requirement already satisfied: urllib3<3,>=1.21.1 in /usr/local/lib/python3.10/dist-packages (from requests) (2.2.3)\n",
            "Requirement already satisfied: certifi>=2017.4.17 in /usr/local/lib/python3.10/dist-packages (from requests) (2024.12.14)\n",
            "Requirement already satisfied: wheel<1.0,>=0.23.0 in /usr/local/lib/python3.10/dist-packages (from astunparse>=1.6.0->tensorflow) (0.45.1)\n",
            "Requirement already satisfied: MarkupSafe>=2.0 in /usr/local/lib/python3.10/dist-packages (from Jinja2>=3.1.2->flask) (3.0.2)\n",
            "Requirement already satisfied: rich in /usr/local/lib/python3.10/dist-packages (from keras>=3.2.0->tensorflow) (13.9.4)\n",
            "Requirement already satisfied: namex in /usr/local/lib/python3.10/dist-packages (from keras>=3.2.0->tensorflow) (0.0.8)\n",
            "Requirement already satisfied: optree in /usr/local/lib/python3.10/dist-packages (from keras>=3.2.0->tensorflow) (0.13.1)\n",
            "Requirement already satisfied: markdown>=2.6.8 in /usr/local/lib/python3.10/dist-packages (from tensorboard<2.18,>=2.17->tensorflow) (3.7)\n",
            "Requirement already satisfied: tensorboard-data-server<0.8.0,>=0.7.0 in /usr/local/lib/python3.10/dist-packages (from tensorboard<2.18,>=2.17->tensorflow) (0.7.2)\n",
            "Requirement already satisfied: markdown-it-py>=2.2.0 in /usr/local/lib/python3.10/dist-packages (from rich->keras>=3.2.0->tensorflow) (3.0.0)\n",
            "Requirement already satisfied: pygments<3.0.0,>=2.13.0 in /usr/local/lib/python3.10/dist-packages (from rich->keras>=3.2.0->tensorflow) (2.18.0)\n",
            "Requirement already satisfied: mdurl~=0.1 in /usr/local/lib/python3.10/dist-packages (from markdown-it-py>=2.2.0->rich->keras>=3.2.0->tensorflow) (0.1.2)\n",
            "Downloading py_solc_x-2.0.3-py3-none-any.whl (18 kB)\n",
            "Downloading packaging-23.2-py3-none-any.whl (53 kB)\n",
            "\u001b[2K   \u001b[90m━━━━━━━━━━━━━━━━━━━━━━━━━━━━━━━━━━━━━━━━\u001b[0m \u001b[32m53.0/53.0 kB\u001b[0m \u001b[31m3.7 MB/s\u001b[0m eta \u001b[36m0:00:00\u001b[0m\n",
            "\u001b[?25hInstalling collected packages: packaging, py-solc-x\n",
            "  Attempting uninstall: packaging\n",
            "    Found existing installation: packaging 24.2\n",
            "    Uninstalling packaging-24.2:\n",
            "      Successfully uninstalled packaging-24.2\n",
            "Successfully installed packaging-23.2 py-solc-x-2.0.3\n"
          ]
        }
      ],
      "source": [
        "# Install necessary libraries\n",
        "!pip install flask tensorflow scikit-learn py-solc-x requests\n"
      ]
    },
    {
      "cell_type": "markdown",
      "source": [
        "2. Setup Blockchain (Using Ethereum Smart Contracts). For this example, we will use web3.py to interact with the Ethereum blockchain."
      ],
      "metadata": {
        "id": "1hfwZMwH3dyX"
      }
    },
    {
      "cell_type": "code",
      "source": [
        "# Install web3.py to interact with Ethereum\n",
        "!pip install web3\n",
        "\n",
        "from web3 import Web3\n",
        "\n",
        "# Connect to Ethereum node (Local or Infura)\n",
        "w3 = Web3(Web3.HTTPProvider('https://mainnet.infura.io/v3/c638172c957e49259abd5bd1325d3981'))\n",
        "\n",
        "# Check if connection is successful\n",
        "# In newer versions of web3.py, isConnected is replaced by is_connected\n",
        "print(f\"Connected to Ethereum: {w3.is_connected()}\")\n"
      ],
      "metadata": {
        "colab": {
          "base_uri": "https://localhost:8080/"
        },
        "id": "6mu_qk8o3njk",
        "outputId": "9913f8a9-549d-437e-950e-a85cdd848e78"
      },
      "execution_count": null,
      "outputs": [
        {
          "output_type": "stream",
          "name": "stdout",
          "text": [
            "Requirement already satisfied: web3 in /usr/local/lib/python3.10/dist-packages (7.6.1)\n",
            "Requirement already satisfied: eth-abi>=5.0.1 in /usr/local/lib/python3.10/dist-packages (from web3) (5.1.0)\n",
            "Requirement already satisfied: eth-account>=0.13.1 in /usr/local/lib/python3.10/dist-packages (from web3) (0.13.4)\n",
            "Requirement already satisfied: eth-hash>=0.5.1 in /usr/local/lib/python3.10/dist-packages (from eth-hash[pycryptodome]>=0.5.1->web3) (0.7.0)\n",
            "Requirement already satisfied: eth-typing>=5.0.0 in /usr/local/lib/python3.10/dist-packages (from web3) (5.0.1)\n",
            "Requirement already satisfied: eth-utils>=5.0.0 in /usr/local/lib/python3.10/dist-packages (from web3) (5.1.0)\n",
            "Requirement already satisfied: hexbytes>=1.2.0 in /usr/local/lib/python3.10/dist-packages (from web3) (1.2.1)\n",
            "Requirement already satisfied: aiohttp>=3.7.4.post0 in /usr/local/lib/python3.10/dist-packages (from web3) (3.11.10)\n",
            "Requirement already satisfied: pydantic>=2.4.0 in /usr/local/lib/python3.10/dist-packages (from web3) (2.10.3)\n",
            "Requirement already satisfied: requests>=2.23.0 in /usr/local/lib/python3.10/dist-packages (from web3) (2.32.3)\n",
            "Requirement already satisfied: typing-extensions>=4.0.1 in /usr/local/lib/python3.10/dist-packages (from web3) (4.12.2)\n",
            "Requirement already satisfied: types-requests>=2.0.0 in /usr/local/lib/python3.10/dist-packages (from web3) (2.32.0.20241016)\n",
            "Requirement already satisfied: websockets<14.0.0,>=10.0.0 in /usr/local/lib/python3.10/dist-packages (from web3) (13.1)\n",
            "Requirement already satisfied: pyunormalize>=15.0.0 in /usr/local/lib/python3.10/dist-packages (from web3) (16.0.0)\n",
            "Requirement already satisfied: aiohappyeyeballs>=2.3.0 in /usr/local/lib/python3.10/dist-packages (from aiohttp>=3.7.4.post0->web3) (2.4.4)\n",
            "Requirement already satisfied: aiosignal>=1.1.2 in /usr/local/lib/python3.10/dist-packages (from aiohttp>=3.7.4.post0->web3) (1.3.2)\n",
            "Requirement already satisfied: async-timeout<6.0,>=4.0 in /usr/local/lib/python3.10/dist-packages (from aiohttp>=3.7.4.post0->web3) (4.0.3)\n",
            "Requirement already satisfied: attrs>=17.3.0 in /usr/local/lib/python3.10/dist-packages (from aiohttp>=3.7.4.post0->web3) (24.3.0)\n",
            "Requirement already satisfied: frozenlist>=1.1.1 in /usr/local/lib/python3.10/dist-packages (from aiohttp>=3.7.4.post0->web3) (1.5.0)\n",
            "Requirement already satisfied: multidict<7.0,>=4.5 in /usr/local/lib/python3.10/dist-packages (from aiohttp>=3.7.4.post0->web3) (6.1.0)\n",
            "Requirement already satisfied: propcache>=0.2.0 in /usr/local/lib/python3.10/dist-packages (from aiohttp>=3.7.4.post0->web3) (0.2.1)\n",
            "Requirement already satisfied: yarl<2.0,>=1.17.0 in /usr/local/lib/python3.10/dist-packages (from aiohttp>=3.7.4.post0->web3) (1.18.3)\n",
            "Requirement already satisfied: parsimonious<0.11.0,>=0.10.0 in /usr/local/lib/python3.10/dist-packages (from eth-abi>=5.0.1->web3) (0.10.0)\n",
            "Requirement already satisfied: bitarray>=2.4.0 in /usr/local/lib/python3.10/dist-packages (from eth-account>=0.13.1->web3) (3.0.0)\n",
            "Requirement already satisfied: eth-keyfile<0.9.0,>=0.7.0 in /usr/local/lib/python3.10/dist-packages (from eth-account>=0.13.1->web3) (0.8.1)\n",
            "Requirement already satisfied: eth-keys>=0.4.0 in /usr/local/lib/python3.10/dist-packages (from eth-account>=0.13.1->web3) (0.6.0)\n",
            "Requirement already satisfied: eth-rlp>=2.1.0 in /usr/local/lib/python3.10/dist-packages (from eth-account>=0.13.1->web3) (2.1.0)\n",
            "Requirement already satisfied: rlp>=1.0.0 in /usr/local/lib/python3.10/dist-packages (from eth-account>=0.13.1->web3) (4.0.1)\n",
            "Requirement already satisfied: ckzg>=2.0.0 in /usr/local/lib/python3.10/dist-packages (from eth-account>=0.13.1->web3) (2.0.1)\n",
            "Requirement already satisfied: pycryptodome<4,>=3.6.6 in /usr/local/lib/python3.10/dist-packages (from eth-hash[pycryptodome]>=0.5.1->web3) (3.21.0)\n",
            "Requirement already satisfied: cytoolz>=0.10.1 in /usr/local/lib/python3.10/dist-packages (from eth-utils>=5.0.0->web3) (1.0.1)\n",
            "Requirement already satisfied: annotated-types>=0.6.0 in /usr/local/lib/python3.10/dist-packages (from pydantic>=2.4.0->web3) (0.7.0)\n",
            "Requirement already satisfied: pydantic-core==2.27.1 in /usr/local/lib/python3.10/dist-packages (from pydantic>=2.4.0->web3) (2.27.1)\n",
            "Requirement already satisfied: charset-normalizer<4,>=2 in /usr/local/lib/python3.10/dist-packages (from requests>=2.23.0->web3) (3.4.0)\n",
            "Requirement already satisfied: idna<4,>=2.5 in /usr/local/lib/python3.10/dist-packages (from requests>=2.23.0->web3) (3.10)\n",
            "Requirement already satisfied: urllib3<3,>=1.21.1 in /usr/local/lib/python3.10/dist-packages (from requests>=2.23.0->web3) (2.2.3)\n",
            "Requirement already satisfied: certifi>=2017.4.17 in /usr/local/lib/python3.10/dist-packages (from requests>=2.23.0->web3) (2024.12.14)\n",
            "Requirement already satisfied: toolz>=0.8.0 in /usr/local/lib/python3.10/dist-packages (from cytoolz>=0.10.1->eth-utils>=5.0.0->web3) (0.12.1)\n",
            "Requirement already satisfied: regex>=2022.3.15 in /usr/local/lib/python3.10/dist-packages (from parsimonious<0.11.0,>=0.10.0->eth-abi>=5.0.1->web3) (2024.11.6)\n",
            "Connected to Ethereum: True\n"
          ]
        }
      ]
    },
    {
      "cell_type": "markdown",
      "source": [
        "3. Deploy a Simple Ethereum Smart Contract\n",
        "Next, we’ll write a simple smart contract in Solidity and deploy it on the Ethereum blockchain. You can deploy to a test network like Ropsten or Rinkeby for testing purposes."
      ],
      "metadata": {
        "id": "HuzWix1t37mR"
      }
    },
    {
      "cell_type": "code",
      "source": [
        "// Solidity Smart Contract Example\n",
        "\n",
        "pragma solidity ^0.8.0;\n",
        "\n",
        "contract ComplianceCheck {\n",
        "    address public owner;\n",
        "\n",
        "    mapping(address => bool) public isCompliant;\n",
        "\n",
        "    event ComplianceStatus(address indexed user, bool status);\n",
        "\n",
        "    constructor() {\n",
        "        owner = msg.sender;\n",
        "    }\n",
        "\n",
        "    function setCompliance(address user, bool status) public {\n",
        "        require(msg.sender == owner, \"Only owner can set compliance status\");\n",
        "        isCompliant[user] = status;\n",
        "        emit ComplianceStatus(user, status);\n",
        "    }\n",
        "\n",
        "    function checkCompliance(address user) public view returns (bool) {\n",
        "        return isCompliant[user];\n",
        "    }\n",
        "}\n"
      ],
      "metadata": {
        "id": "gtyzlSlh3-kJ"
      },
      "execution_count": null,
      "outputs": []
    },
    {
      "cell_type": "markdown",
      "source": [
        "4. Integrate AI/ML for Risk Assessment (Sample Model).\n",
        "We'll use a simple ML model to detect anomalies in transaction data. We’ll use scikit-learn to build a basic model that classifies transactions as \"risky\" or \"safe.\""
      ],
      "metadata": {
        "id": "bnz0vllG5TwB"
      }
    },
    {
      "cell_type": "code",
      "source": [
        "# Import necessary libraries\n",
        "import numpy as np\n",
        "import pandas as pd\n",
        "from sklearn.ensemble import RandomForestClassifier\n",
        "from sklearn.model_selection import train_test_split\n",
        "from sklearn.metrics import accuracy_score\n",
        "\n",
        "# Sample transaction data\n",
        "data = {\n",
        "    'transaction_id': [1, 2, 3, 4, 5],\n",
        "    'amount': [1000, 2500, 800, 7000, 500],\n",
        "    'location': ['US', 'US', 'US', 'UK', 'IN'],\n",
        "    'is_risky': [0, 1, 0, 1, 0]  # 1 = risky, 0 = safe\n",
        "}\n",
        "\n",
        "# Convert to DataFrame\n",
        "df = pd.DataFrame(data)\n",
        "\n",
        "# Feature engineering (basic encoding for demo)\n",
        "df['location'] = df['location'].map({'US': 0, 'UK': 1, 'IN': 2})\n",
        "\n",
        "# Define features and target\n",
        "X = df[['amount', 'location']]\n",
        "y = df['is_risky']\n",
        "\n",
        "# Split data\n",
        "X_train, X_test, y_train, y_test = train_test_split(X, y, test_size=0.3, random_state=42)\n",
        "\n",
        "# Train a RandomForest model\n",
        "model = RandomForestClassifier()\n",
        "model.fit(X_train, y_train)\n",
        "\n",
        "# Predict on test data\n",
        "y_pred = model.predict(X_test)\n",
        "\n",
        "# Evaluate the model\n",
        "print(f\"Accuracy: {accuracy_score(y_test, y_pred)}\")\n"
      ],
      "metadata": {
        "colab": {
          "base_uri": "https://localhost:8080/"
        },
        "id": "SUHUoSaS5XtG",
        "outputId": "b5797ae4-3bf8-43a4-b7ab-4ffded8b6466"
      },
      "execution_count": null,
      "outputs": [
        {
          "output_type": "stream",
          "name": "stdout",
          "text": [
            "Accuracy: 0.5\n"
          ]
        }
      ]
    },
    {
      "cell_type": "markdown",
      "source": [
        "5. Create a Simple API with Flask\n",
        "Now, we will create a simple Flask API that will serve the smart contract and AI/ML model together. The API will:\n",
        "\n",
        "Take transaction data as input.\n",
        "Use the AI model to assess risk.\n",
        "Check compliance via the smart contract."
      ],
      "metadata": {
        "id": "mU6ZWTwA5k-c"
      }
    },
    {
      "cell_type": "code",
      "source": [
        "# Install Flask if it's not installed\n",
        "!pip install Flask\n",
        "\n",
        "from flask import Flask, request, jsonify\n",
        "import random\n",
        "\n",
        "app = Flask(__name__)\n",
        "\n",
        "# Mock AI risk assessment function (using the trained model above)\n",
        "def predict_risk(amount, location):\n",
        "    prediction = model.predict([[amount, location]])  # RandomForest from above\n",
        "    return \"risky\" if prediction == 1 else \"safe\"\n",
        "\n",
        "# Mock smart contract function\n",
        "def check_compliance(user_address):\n",
        "    # Normally you would interact with the Ethereum blockchain here\n",
        "    return random.choice([True, False])  # Random compliance status\n",
        "\n",
        "@app.route('/assess', methods=['POST'])\n",
        "def assess_transaction():\n",
        "    data = request.get_json()\n",
        "\n",
        "    # Extract data\n",
        "    amount = data.get('amount')\n",
        "    location = data.get('location')\n",
        "    user_address = data.get('user_address')\n",
        "\n",
        "    # Risk assessment\n",
        "    risk = predict_risk(amount, location)\n",
        "\n",
        "    # Compliance check\n",
        "    compliance = check_compliance(user_address)\n",
        "\n",
        "    # Return results\n",
        "    return jsonify({\n",
        "        'risk': risk,\n",
        "        'compliance': compliance\n",
        "    })\n",
        "\n",
        "# Run the Flask app\n",
        "if __name__ == \"__main__\":\n",
        "    app.run(port=5000)\n"
      ],
      "metadata": {
        "colab": {
          "base_uri": "https://localhost:8080/"
        },
        "id": "NXRf-DJP5mq_",
        "outputId": "1b106305-3e93-4625-d376-22a1c1c04429"
      },
      "execution_count": null,
      "outputs": [
        {
          "output_type": "stream",
          "name": "stdout",
          "text": [
            "Requirement already satisfied: Flask in /usr/local/lib/python3.10/dist-packages (3.1.0)\n",
            "Requirement already satisfied: Werkzeug>=3.1 in /usr/local/lib/python3.10/dist-packages (from Flask) (3.1.3)\n",
            "Requirement already satisfied: Jinja2>=3.1.2 in /usr/local/lib/python3.10/dist-packages (from Flask) (3.1.4)\n",
            "Requirement already satisfied: itsdangerous>=2.2 in /usr/local/lib/python3.10/dist-packages (from Flask) (2.2.0)\n",
            "Requirement already satisfied: click>=8.1.3 in /usr/local/lib/python3.10/dist-packages (from Flask) (8.1.7)\n",
            "Requirement already satisfied: blinker>=1.9 in /usr/local/lib/python3.10/dist-packages (from Flask) (1.9.0)\n",
            "Requirement already satisfied: MarkupSafe>=2.0 in /usr/local/lib/python3.10/dist-packages (from Jinja2>=3.1.2->Flask) (3.0.2)\n",
            " * Serving Flask app '__main__'\n",
            " * Debug mode: off\n"
          ]
        },
        {
          "output_type": "stream",
          "name": "stderr",
          "text": [
            "INFO:werkzeug:\u001b[31m\u001b[1mWARNING: This is a development server. Do not use it in a production deployment. Use a production WSGI server instead.\u001b[0m\n",
            " * Running on http://127.0.0.1:5000\n",
            "INFO:werkzeug:\u001b[33mPress CTRL+C to quit\u001b[0m\n"
          ]
        }
      ]
    },
    {
      "cell_type": "markdown",
      "source": [
        "6. Test API Locally in Google Colab\n",
        "Since Colab does not support hosting Flask directly, you will need to use ngrok for tunneling. Here's how you can do it."
      ],
      "metadata": {
        "id": "m_PgJnuu56xl"
      }
    },
    {
      "cell_type": "code",
      "source": [
        "# Install ngrok\n",
        "!pip install pyngrok\n",
        "\n",
        "from pyngrok import ngrok\n",
        "\n",
        "# Start Flask app in a background thread\n",
        "port = 5000\n",
        "public_url = ngrok.connect(port)\n",
        "print(f\"API available at {public_url}\")\n"
      ],
      "metadata": {
        "id": "5CiekqTf5-zX"
      },
      "execution_count": null,
      "outputs": []
    },
    {
      "cell_type": "markdown",
      "source": [
        "7. Example Request to API\n",
        "You can now send requests to the API. Here's how you would call the endpoint from Google Colab or any HTTP client like Postman:"
      ],
      "metadata": {
        "id": "KHG-Yzj56D3v"
      }
    },
    {
      "cell_type": "code",
      "source": [
        "import requests\n",
        "\n",
        "# Sample data for testing the API\n",
        "data = {\n",
        "    \"amount\": 1000,\n",
        "    \"location\": 0,  # US\n",
        "    \"user_address\": \"0x123abc...\"\n",
        "}\n",
        "\n",
        "response = requests.post('http://localhost:5000/assess', json=data)\n",
        "print(response.json())\n"
      ],
      "metadata": {
        "id": "9aF1z3vW6Fws"
      },
      "execution_count": null,
      "outputs": []
    },
    {
      "cell_type": "markdown",
      "source": [
        "Conclusion\n",
        "This Google Colab notebook demonstrates how to integrate AI/ML models, blockchain smart contracts, and Flask to create an API for compliance and risk management. You can extend this by deploying the Flask app on a cloud server, integrating with a real blockchain, and building more sophisticated AI/ML models."
      ],
      "metadata": {
        "id": "UhRypyov6Ku1"
      }
    }
  ]
}